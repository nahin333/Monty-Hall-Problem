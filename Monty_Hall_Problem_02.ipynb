{
  "nbformat": 4,
  "nbformat_minor": 0,
  "metadata": {
    "colab": {
      "name": "Monty Hall Problem 02.ipynb",
      "provenance": [],
      "authorship_tag": "ABX9TyMrAgSFN3qLHNV2JHmy4fyM",
      "include_colab_link": true
    },
    "kernelspec": {
      "name": "python3",
      "display_name": "Python 3"
    },
    "language_info": {
      "name": "python"
    }
  },
  "cells": [
    {
      "cell_type": "markdown",
      "metadata": {
        "id": "view-in-github",
        "colab_type": "text"
      },
      "source": [
        "<a href=\"https://colab.research.google.com/github/nahin333/Monty-Hall-Problem/blob/main/Monty_Hall_Problem_02.ipynb\" target=\"_parent\"><img src=\"https://colab.research.google.com/assets/colab-badge.svg\" alt=\"Open In Colab\"/></a>"
      ]
    },
    {
      "cell_type": "code",
      "execution_count": 1,
      "metadata": {
        "id": "gsrcF0Di7H2P"
      },
      "outputs": [],
      "source": [
        "from random import shuffle, choice\n",
        "\n",
        "door_numbers = [1, 2, 3]\n",
        "wanted_award = \"car\"\n",
        "unwanted_award = \"goat\"\n",
        "awards = [wanted_award, unwanted_award, unwanted_award]"
      ]
    },
    {
      "cell_type": "code",
      "source": [
        "def monty_hall_trial(initial_door_number, should_switch):\n",
        "    shuffle(awards)\n",
        "    doors = dict(zip(door_numbers, awards))\n",
        "    remaining_door_numbers = [x for x in door_numbers if x != initial_door_number]\n",
        "    for door_number in remaining_door_numbers:\n",
        "        if doors[door_number] == unwanted_award:\n",
        "            remaining_door_numbers.remove(door_number)\n",
        "            break\n",
        "\n",
        "    switched_door_number = remaining_door_numbers[0]\n",
        "    final_door_number = switched_door_number if should_switch else initial_door_number\n",
        "    won_car = doors[final_door_number] == wanted_award\n",
        "    return won_car"
      ],
      "metadata": {
        "id": "_3ojpAKq7O4c"
      },
      "execution_count": 2,
      "outputs": []
    },
    {
      "cell_type": "code",
      "source": [
        "def simulate_monty_hall(trial_number, should_switch):\n",
        "    winning_counts = 0\n",
        "    for trial_i in range(trial_number):\n",
        "        initial_pick = choice(door_numbers)\n",
        "        won_car = monty_hall_trial(initial_pick, should_switch)\n",
        "        winning_counts += int(won_car)\n",
        "    winning_prob = winning_counts/trial_number\n",
        "    print(f\"Trial Times: {trial_number} times\\n\"\n",
        "          f\"Switching: {should_switch}\\n\"\n",
        "          f\"Probability: {winning_prob:.2%}\")"
      ],
      "metadata": {
        "id": "6DBL91gi7UuM"
      },
      "execution_count": 3,
      "outputs": []
    },
    {
      "cell_type": "code",
      "source": [
        "simulate_monty_hall(10000, True)"
      ],
      "metadata": {
        "colab": {
          "base_uri": "https://localhost:8080/"
        },
        "id": "Toy4DSt97Z1x",
        "outputId": "08015f48-19ef-4382-bf1b-7d89ab5a098c"
      },
      "execution_count": 4,
      "outputs": [
        {
          "output_type": "stream",
          "name": "stdout",
          "text": [
            "Trial Times: 10000 times\n",
            "Switching: True\n",
            "Probability: 67.02%\n"
          ]
        }
      ]
    },
    {
      "cell_type": "code",
      "source": [
        "simulate_monty_hall(10000, False)"
      ],
      "metadata": {
        "colab": {
          "base_uri": "https://localhost:8080/"
        },
        "id": "JRtDA3M47agk",
        "outputId": "3c3118b4-9ea1-4871-c941-9e81cbd2573c"
      },
      "execution_count": 5,
      "outputs": [
        {
          "output_type": "stream",
          "name": "stdout",
          "text": [
            "Trial Times: 10000 times\n",
            "Switching: False\n",
            "Probability: 33.16%\n"
          ]
        }
      ]
    }
  ]
}